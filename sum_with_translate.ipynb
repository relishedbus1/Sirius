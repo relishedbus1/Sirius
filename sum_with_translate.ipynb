{
 "cells": [
  {
   "cell_type": "code",
   "execution_count": 3,
   "id": "f981fcee-da7f-4e02-a81c-821e601fb6f7",
   "metadata": {},
   "outputs": [
    {
     "name": "stderr",
     "output_type": "stream",
     "text": [
      "All model checkpoint layers were used when initializing TFMarianMTModel.\n",
      "\n",
      "All the layers of TFMarianMTModel were initialized from the model checkpoint at Helsinki-NLP/opus-mt-ru-en.\n",
      "If your task is similar to the task the model of the checkpoint was trained on, you can already use TFMarianMTModel for predictions without further training.\n",
      "All model checkpoint layers were used when initializing TFMarianMTModel.\n",
      "\n",
      "All the layers of TFMarianMTModel were initialized from the model checkpoint at Helsinki-NLP/opus-mt-en-ru.\n",
      "If your task is similar to the task the model of the checkpoint was trained on, you can already use TFMarianMTModel for predictions without further training.\n"
     ]
    },
    {
     "name": "stdout",
     "output_type": "stream",
     "text": [
      "Translated Summary (Russian): История театра началась 17 марта (28) 1776 года, когда прокуратура принц Питер Василиевич Урусов получила наивысшее одобрение Императрицы Екатерины II.\n",
      "Rouge Score: [{'rouge-1': {'r': 0.02857142857142857, 'p': 0.08695652173913043, 'f': 0.04301074896519861}, 'rouge-2': {'r': 0.0, 'p': 0.0, 'f': 0.0}, 'rouge-l': {'r': 0.02857142857142857, 'p': 0.08695652173913043, 'f': 0.04301074896519861}}]\n"
     ]
    }
   ],
   "source": [
    "from transformers import AutoTokenizer, TFAutoModelForSeq2SeqLM\n",
    "from rouge import Rouge"
   ]
  },
  {
   "cell_type": "code",
   "execution_count": null,
   "id": "3995f578-71e5-4be5-a889-9c08b5d1548c",
   "metadata": {},
   "outputs": [],
   "source": [
    "# Загрузка предварительно обученных моделей и токенизаторов для суммаризации и перевода\n",
    "summarization_model_name = \"Helsinki-NLP/opus-mt-ru-en\"  # Мультиязычная модель для суммаризации\n",
    "translation_model_name = \"Helsinki-NLP/opus-mt-en-ru\"     # Модель перевода с английского на русский"
   ]
  },
  {
   "cell_type": "code",
   "execution_count": null,
   "id": "c0ed4fa5-fa60-4d1c-9e0d-2097a2b67241",
   "metadata": {},
   "outputs": [],
   "source": [
    "summarization_tokenizer = AutoTokenizer.from_pretrained(summarization_model_name)\n",
    "summarization_model = TFAutoModelForSeq2SeqLM.from_pretrained(summarization_model_name)\n",
    "\n",
    "translation_tokenizer = AutoTokenizer.from_pretrained(translation_model_name)\n",
    "translation_model = TFAutoModelForSeq2SeqLM.from_pretrained(translation_model_name)"
   ]
  },
  {
   "cell_type": "code",
   "execution_count": null,
   "id": "fa6b1cc2-7bad-49c6-a9de-560d6845e15b",
   "metadata": {},
   "outputs": [],
   "source": [
    "# Функция для суммаризации и перевода текста\n",
    "def summarize_and_translate(text):\n",
    "    # Суммаризация текста на английском\n",
    "    inputs = summarization_tokenizer(text, return_tensors=\"tf\", max_length=1024, truncation=True)\n",
    "    summary_ids = summarization_model.generate(inputs[\"input_ids\"], max_length=50, min_length=10, num_beams=4, early_stopping=True)\n",
    "    summary_en = summarization_tokenizer.decode(summary_ids[0], skip_special_tokens=True)\n",
    "    \n",
    "    # Перевод суммаризированного текста на русский\n",
    "    translation_inputs = translation_tokenizer(summary_en, return_tensors=\"tf\", max_length=1024, truncation=True)\n",
    "    translation_ids = translation_model.generate(translation_inputs[\"input_ids\"], max_length=1024, num_beams=4, early_stopping=True)\n",
    "    translated_summary_ru = translation_tokenizer.decode(translation_ids[0], skip_special_tokens=True)\n",
    "    \n",
    "    return summary_en, translated_summary_ru"
   ]
  },
  {
   "cell_type": "code",
   "execution_count": null,
   "id": "156e1b51-7630-4d6f-ac4a-18ad647f97c2",
   "metadata": {},
   "outputs": [],
   "source": [
    "# Пример текста на русском для суммаризации и перевода\n",
    "example_text_ru = \"\"\"\n",
    "Историю театра принято вести с 17 (28) марта 1776 года, когда губернский прокурор князь Пётр Васильевич Урусов получил высочайшее соизволение императрицы Екатерины II «содержать… театральные всякого рода представления, а также концерты, воксалы и маскарады». Князь начал строительство театра, который — по месту расположения на улице Петровка (на правом берегу Неглинки) — был назван Петровским[2]. Театр Урусова сгорел ещё до его открытия, и князь передал дела своему компаньону, английскому предпринимателю Майклу (Михаилу) Меддоксу. \n",
    "\"\"\"\n",
    "\n",
    "# Суммаризация и перевод текста на русский\n",
    "summary_en, translated_summary_ru = summarize_and_translate(example_text_ru)"
   ]
  },
  {
   "cell_type": "code",
   "execution_count": null,
   "id": "b0ce4d1e-57ac-479d-a937-882ecda8ba7d",
   "metadata": {},
   "outputs": [],
   "source": [
    "# Расчет метрики Rouge\n",
    "rouge = Rouge()\n",
    "rouge_score = rouge.get_scores(summary_en, example_text_ru)"
   ]
  },
  {
   "cell_type": "code",
   "execution_count": null,
   "id": "ed4e6896-17cc-4d22-8c2b-1216aa8a7501",
   "metadata": {},
   "outputs": [],
   "source": [
    "# Вывод переведенного текста и метрики Rouge\n",
    "print(\"Переведенная суммаризация (на русском):\", translated_summary_ru)\n",
    "print(\"Оценка Rouge:\", rouge_score)"
   ]
  }
 ],
 "metadata": {
  "kernelspec": {
   "display_name": "Python 3 (ipykernel)",
   "language": "python",
   "name": "python3"
  },
  "language_info": {
   "codemirror_mode": {
    "name": "ipython",
    "version": 3
   },
   "file_extension": ".py",
   "mimetype": "text/x-python",
   "name": "python",
   "nbconvert_exporter": "python",
   "pygments_lexer": "ipython3",
   "version": "3.12.2"
  }
 },
 "nbformat": 4,
 "nbformat_minor": 5
}

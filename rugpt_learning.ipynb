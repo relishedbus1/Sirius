{
 "cells": [
  {
   "cell_type": "code",
   "execution_count": null,
   "id": "238846d1-7df4-4f57-8b4e-cb691e50f615",
   "metadata": {},
   "outputs": [],
   "source": [
    "from transformers import AutoTokenizer, AutoModelForSeq2SeqLM\n",
    "import torch\n"
   ]
  },
  {
   "cell_type": "code",
   "execution_count": null,
   "id": "8c742883-5241-49b6-9664-31205cefdd46",
   "metadata": {},
   "outputs": [],
   "source": [
    "# Загрузка токенизатора и модели RuGPT3\n",
    "tokenizer = AutoTokenizer.from_pretrained(\"sberbank-ai/rugpt3small_based_on_gpt2\")\n",
    "model = AutoModelForSeq2SeqLM.from_pretrained(\"sberbank-ai/rugpt3small_based_on_gpt2\")"
   ]
  },
  {
   "cell_type": "code",
   "execution_count": null,
   "id": "2ee9abbd-eff4-4668-be60-e3bcf4f0b08c",
   "metadata": {},
   "outputs": [],
   "source": [
    "# Подготовка данных для fine-tuning\n",
    "train_texts = [\"Входной текст 1\", \"Входной текст 2\", ...]\n",
    "train_summaries = [\"Суммаризация 1\", \"Суммаризация 2\", ...]\n",
    "\n",
    "# Токенизация и кодирование данных\n",
    "train_encodings = tokenizer(train_texts, train_summaries, truncation=True, padding=True)\n",
    "\n",
    "# Преобразование данных в формат PyTorch тензоров\n",
    "train_dataset = torch.utils.data.TensorDataset(\n",
    "    torch.tensor(train_encodings[\"input_ids\"]),\n",
    "    torch.tensor(train_encodings[\"attention_mask\"]),\n",
    "    torch.tensor(train_encodings[\"labels\"])\n",
    ")"
   ]
  },
  {
   "cell_type": "code",
   "execution_count": null,
   "id": "7af09723-6366-4245-a8e1-892f155ac47f",
   "metadata": {},
   "outputs": [],
   "source": [
    "# Функция для вычисления метрик (например, BLEU) во время обучения (опционально)\n",
    "def compute_metrics(pred):\n",
    "    labels_ids = pred.label_ids\n",
    "    pred_ids = pred.predictions\n",
    "\n",
    "    # Декодирование и преобразование тензоров в список строк\n",
    "    pred_str = tokenizer.batch_decode(pred_ids, skip_special_tokens=True)\n",
    "    labels_ids[labels_ids == -100] = tokenizer.pad_token_id\n",
    "    label_str = tokenizer.batch_decode(labels_ids, skip_special_tokens=True)\n",
    "\n",
    "    # Вычисление BLEU\n",
    "    bleu_score = sacrebleu.corpus_bleu(pred_str, [label_str]).score\n",
    "\n",
    "    return {\"bleu\": bleu_score}"
   ]
  },
  {
   "cell_type": "code",
   "execution_count": null,
   "id": "1bfaba5a-86e4-4a26-8b97-6f5cfcc27db7",
   "metadata": {},
   "outputs": [],
   "source": [
    "# Настройка тренировочного цикла\n",
    "training_args = Seq2SeqTrainingArguments(\n",
    "    output_dir=\"./\",\n",
    "    per_device_train_batch_size=4,\n",
    "    num_train_epochs=3,\n",
    "    save_steps=10_000,\n",
    "    save_total_limit=2,\n",
    "    logging_steps=100,\n",
    "    evaluation_strategy=\"steps\",\n",
    "    eval_steps=1000,\n",
    "    load_best_model_at_end=True,\n",
    "    metric_for_best_model=\"bleu\",\n",
    "    greater_is_better=True,\n",
    "    logging_dir=\"./logs\",\n",
    ")"
   ]
  },
  {
   "cell_type": "code",
   "execution_count": null,
   "id": "88efed60-06e1-43a8-bffb-5bc7b50c509e",
   "metadata": {},
   "outputs": [],
   "source": [
    "# Создание объекта Trainer для fine-tuning\n",
    "trainer = Seq2SeqTrainer(\n",
    "    model=model,\n",
    "    args=training_args,\n",
    "    train_dataset=train_dataset,\n",
    "    tokenizer=tokenizer,\n",
    "    compute_metrics=compute_metrics,\n",
    ")"
   ]
  },
  {
   "cell_type": "code",
   "execution_count": null,
   "id": "c940af57-83e3-4ecd-b04d-609c88c69bc8",
   "metadata": {},
   "outputs": [],
   "source": [
    "# Запуск fine-tuning\n",
    "trainer.train()"
   ]
  }
 ],
 "metadata": {
  "kernelspec": {
   "display_name": "Python 3 (ipykernel)",
   "language": "python",
   "name": "python3"
  },
  "language_info": {
   "codemirror_mode": {
    "name": "ipython",
    "version": 3
   },
   "file_extension": ".py",
   "mimetype": "text/x-python",
   "name": "python",
   "nbconvert_exporter": "python",
   "pygments_lexer": "ipython3",
   "version": "3.12.2"
  }
 },
 "nbformat": 4,
 "nbformat_minor": 5
}
